{
 "cells": [
  {
   "cell_type": "markdown",
   "metadata": {},
   "source": [
    "TODO: \n",
    " * reorganize experiments such that results are obtained for both F and G, F only , G only. In case of EM F or G are masked after determining the parameters."
   ]
  },
  {
   "cell_type": "code",
   "execution_count": 1,
   "metadata": {},
   "outputs": [],
   "source": [
    "import numpy\n",
    "import scipy\n",
    "import scipy.special\n",
    "import scipy.stats\n",
    "from sklearn import metrics\n",
    "import matplotlib.pyplot as plt\n",
    "import irp.pp, irp.map, irp.em\n",
    "from irp.ndist import nexpon, ngamma\n",
    "%load_ext ipython_unittest\n",
    "%matplotlib inline"
   ]
  },
  {
   "cell_type": "markdown",
   "metadata": {},
   "source": [
    "# Intrusions in Marked Renewal Processes\n",
    "\n",
    "This notebook is a part of empirical evaluation for the paper [](Intrusions in Marked Renewal Processes). "
   ]
  },
  {
   "cell_type": "markdown",
   "metadata": {},
   "source": [
    "## Helpers\n",
    "\n",
    "We need an improper uniform distribution with pdf equal 1 everywhere."
   ]
  },
  {
   "cell_type": "code",
   "execution_count": 2,
   "metadata": {},
   "outputs": [],
   "source": [
    "class ImproperUniform(object):\n",
    "    \"\"\"Improper uniform distribution.\n",
    "    pdf, cdf, and sf is 1 everywhere.\n",
    "    \"\"\"\n",
    "    def pdf(self, _):\n",
    "        return 1\n",
    "    \n",
    "    def cdf(self, _):\n",
    "        return 1\n",
    "    \n",
    "    def sf(self, _):\n",
    "        return 1"
   ]
  },
  {
   "cell_type": "markdown",
   "metadata": {},
   "source": [
    "## Evaluation on Synthetic data\n",
    "\n",
    "Synthetic data are sampled from a marked renewal process of known shape and parameters. \n",
    "\n",
    "### Generative model\n",
    "\n",
    "We first define a generative model for the data in Python. The model produces both normal entries and intrusions."
   ]
  },
  {
   "cell_type": "code",
   "execution_count": 3,
   "metadata": {},
   "outputs": [],
   "source": [
    "def generate(N, pi, F, G, Gi=nexpon(scale=1)):\n",
    "    \"\"\"\n",
    "    Generates a data sequence with possible intrusion.\n",
    "    Accepts:\n",
    "        N - the number of events,\n",
    "        F - interval distribution,\n",
    "        G - mark distribution,\n",
    "        Gi - intrusion mark distribution.\n",
    "    Returns:\n",
    "        [t_s, t_e, [[t_i, y_i] ...], [z_i ...]]\n",
    "    where\n",
    "        t_s - start of the interval\n",
    "        t_e - end of the interval\n",
    "        t_i - arrival time of the ith event\n",
    "        y_i - mark of the ith event\n",
    "        z_i - 1 if the event belongs to the intrusion, 0 otherwise.\n",
    "    \"\"\"\n",
    "    # Normal events\n",
    "    K = scipy.stats.binom.rvs(N, pi)\n",
    "    ts = numpy.cumsum(F.rvs(size=N - K))\n",
    "    ys = G.rvs(size=N - K)\n",
    "    t_s = scipy.stats.uniform.rvs(0, ts[0])\n",
    "    t_e = ts[-1] + t_s\n",
    "    \n",
    "    # Intrusion events\n",
    "    ti_s, ti_e = scipy.stats.uniform.rvs(t_s, t_e - t_s, size=2)\n",
    "    if ti_e < ti_s:\n",
    "        ti_s, ti_e = ti_e, ti_s\n",
    "    tis = scipy.stats.uniform.rvs(ti_s, ti_e - ti_s, size=K)\n",
    "    yis = Gi.rvs(size=K)\n",
    "    \n",
    "    # Merge them into a single list\n",
    "    SZ = [(t, s, 0) for t, s in zip(ts, ys)] + [(t, s, 1) for t, s in zip(tis, yis)]\n",
    "    SZ.sort(key=lambda x: x[0])\n",
    "    S = [(x, y) for x, y, _ in SZ]\n",
    "    Z = [z for _, _, z in SZ]\n",
    "    return [t_s, t_e, S, Z]"
   ]
  },
  {
   "cell_type": "markdown",
   "metadata": {},
   "source": [
    "The event probability of belonging to an intrusion is chosen so that the probability of an intrusion is as given."
   ]
  },
  {
   "cell_type": "code",
   "execution_count": 4,
   "metadata": {},
   "outputs": [],
   "source": [
    "def get_pi(N, p=0.5):\n",
    "    \"\"\"\"\"\"\n",
    "    return 1 - (1 - p)**(1. / N)"
   ]
  },
  {
   "cell_type": "code",
   "execution_count": 5,
   "metadata": {
    "scrolled": true
   },
   "outputs": [
    {
     "data": {
      "application/unittest.status+json": {
       "color": "yellow",
       "message": "",
       "previous": 0
      },
      "text/plain": []
     },
     "metadata": {},
     "output_type": "display_data"
    },
    {
     "data": {
      "application/unittest.status+json": {
       "color": "lightgreen",
       "message": ".\n----------------------------------------------------------------------\nRan 1 test in 0.001s\n\nOK\n",
       "previous": 0
      },
      "text/plain": [
       "Success"
      ]
     },
     "metadata": {},
     "output_type": "display_data"
    },
    {
     "name": "stdout",
     "output_type": "stream",
     "text": [
      ".\n",
      "----------------------------------------------------------------------\n",
      "Ran 1 test in 0.001s\n",
      "\n",
      "OK\n"
     ]
    },
    {
     "data": {
      "text/plain": [
       "<unittest.runner.TextTestResult run=1 errors=0 failures=0>"
      ]
     },
     "execution_count": 5,
     "metadata": {},
     "output_type": "execute_result"
    }
   ],
   "source": [
    "%%unittest\n",
    "\"\"\"Check that generated data set is balanced as specified\"\"\"\n",
    "for p in [0.25, 0.5, 0.75]:\n",
    "    assert abs(scipy.stats.binom.pmf(0, 100, get_pi(100, p)) - (1 - p)) < 1E-6"
   ]
  },
  {
   "cell_type": "code",
   "execution_count": 6,
   "metadata": {},
   "outputs": [
    {
     "data": {
      "application/unittest.status+json": {
       "color": "yellow",
       "message": "",
       "previous": 0
      },
      "text/plain": []
     },
     "metadata": {},
     "output_type": "display_data"
    },
    {
     "data": {
      "application/unittest.status+json": {
       "color": "lightgreen",
       "message": ".\n----------------------------------------------------------------------\nRan 1 test in 2.785s\n\nOK\n",
       "previous": 0
      },
      "text/plain": [
       "Success"
      ]
     },
     "metadata": {},
     "output_type": "display_data"
    },
    {
     "name": "stdout",
     "output_type": "stream",
     "text": [
      ".\n",
      "----------------------------------------------------------------------\n",
      "Ran 1 test in 2.785s\n",
      "\n",
      "OK\n"
     ]
    },
    {
     "data": {
      "text/plain": [
       "<unittest.runner.TextTestResult run=1 errors=0 failures=0>"
      ]
     },
     "execution_count": 6,
     "metadata": {},
     "output_type": "execute_result"
    }
   ],
   "source": [
    "%%unittest\n",
    "\"\"\"check that traces contain intrusion with requested probability\"\"\"\n",
    "N = 100\n",
    "p = 0.5\n",
    "pi = get_pi(N, p)\n",
    "NITER = 1000\n",
    "ind = 0\n",
    "for i in range(NITER):\n",
    "    t_s, t_e, S, Z = generate(N, pi, \n",
    "        F=scipy.stats.gamma(a=2, scale=1), \n",
    "        G=scipy.stats.expon(scale=1),\n",
    "        Gi=scipy.stats.expon(scale=10))\n",
    "    ind += any(Z)\n",
    "assert abs(ind/NITER - p) < 0.05"
   ]
  },
  {
   "cell_type": "markdown",
   "metadata": {
    "collapsed": true
   },
   "source": [
    "### Evaluation dataset\n",
    "\n",
    "We can generate a data set using the generative model now. The data consists of tensors `T`, `S`, and `Z` containing intervals, samples and labels for the samples, correspondingly. We generate datasets for `p = 0.5` and `p = 0.995` of intrusion per trace. Both datasets are balanced."
   ]
  },
  {
   "cell_type": "code",
   "execution_count": 105,
   "metadata": {},
   "outputs": [],
   "source": [
    "NSAMPLES = 1000\n",
    "FA = 4.\n",
    "FSCALE = 1.\n",
    "GSCALE = 1.\n",
    "ISCALE = 2.\n",
    "N = 20\n",
    "ps = [0.0125, 0.025, 0.05, 0.1, 0.2]\n",
    "\n",
    "def sfname(t, p):\n",
    "    return format(\"../data/x-{}-synthetic-p={}.npy\".format(t, p))"
   ]
  },
  {
   "cell_type": "code",
   "execution_count": 106,
   "metadata": {},
   "outputs": [
    {
     "name": "stdout",
     "output_type": "stream",
     "text": [
      "p\n",
      "0.0125 ✓\n",
      "0.0250 ✓\n",
      "0.0500 ✓\n",
      "0.1000 ✓\n",
      "0.2000 ✓\n"
     ]
    }
   ],
   "source": [
    "GENERATE = False # Change to True to regenerate the data set\n",
    "if GENERATE:\n",
    "    print(\"p\")\n",
    "    for p in ps:\n",
    "        print(\"{:.4f}\".format(p), end=\" \")\n",
    "        pi = get_pi(N, p)\n",
    "        T = []\n",
    "        S = []\n",
    "        Z = []\n",
    "        # We create a balanced data set here, otherwise\n",
    "        # positive samples will be too sparse for realistic\n",
    "        # values of P\n",
    "        for i in range(NSAMPLES):\n",
    "            while True:\n",
    "                t_s, t_e, s, z = generate(N, pi, \n",
    "                    F=scipy.stats.gamma(a=FA, scale=FSCALE), \n",
    "                    G=scipy.stats.expon(scale=GSCALE),\n",
    "                    Gi=scipy.stats.expon(scale=ISCALE))\n",
    "                if (sum(z) == 0) == (numpy.random.rand() < p):\n",
    "                    break\n",
    "            T.append([t_s, t_e])\n",
    "            S.append(s)\n",
    "            Z.append(z)\n",
    "        T = numpy.array(T)\n",
    "        S = numpy.array(S)\n",
    "        Z = numpy.array(Z)\n",
    "        numpy.save(sfname(\"t\", p), T, False)\n",
    "        numpy.save(sfname(\"s\", p), S, False)\n",
    "        numpy.save(sfname(\"z\", p), Z, False)\n",
    "        print(\"✓\")"
   ]
  },
  {
   "cell_type": "markdown",
   "metadata": {},
   "source": [
    "For analysis, we re-load the dataset. The dataset is a list of records, one record for each `p`."
   ]
  },
  {
   "cell_type": "code",
   "execution_count": 107,
   "metadata": {},
   "outputs": [],
   "source": [
    "DATASETS = []\n",
    "SUBSIZE = None\n",
    "for p in ps:\n",
    "        T = numpy.load(sfname(\"t\", p))\n",
    "        S = numpy.load(sfname(\"s\", p))\n",
    "        Z = numpy.load(sfname(\"z\", p))\n",
    "        if SUBSIZE is not None:\n",
    "            T = T[:SUBSIZE]\n",
    "            S = S[:SUBSIZE]\n",
    "            Z = Z[:SUBSIZE]\n",
    "        DATASETS.append({\"p\": p,\n",
    "                         \"T\": T,\n",
    "                         \"S\": S,\n",
    "                         \"Z\": Z})"
   ]
  },
  {
   "cell_type": "markdown",
   "metadata": {},
   "source": [
    "With the dataset at hand, we are ready for the evaluation.\n",
    "\n",
    "### Experiments with algorithms\n",
    "\n",
    "#### Posterior Probabilities"
   ]
  },
  {
   "cell_type": "code",
   "execution_count": 108,
   "metadata": {},
   "outputs": [],
   "source": [
    "def posteriors(ds, EM, F, G):\n",
    "    pi = get_pi(ds[\"S\"].shape[1], ds[\"p\"])\n",
    "    \n",
    "    for mask in [\"\", \"F\", \"G\"]:\n",
    "        P = numpy.ndarray(ds[\"S\"].shape[0])\n",
    "        M = numpy.ndarray(ds[\"S\"].shape[:2])\n",
    "        L = numpy.ndarray(M.shape)\n",
    "        \n",
    "        for i in range(ds[\"S\"].shape[0]):\n",
    "            S = ds[\"S\"][i, :]\n",
    "            t_s, t_e = ds[\"T\"][i, :]\n",
    "\n",
    "            if EM:\n",
    "                F_, G_, _ = irp.em.parameters(t_s, t_e, S, pi)\n",
    "            else:\n",
    "                F_, G_ = F, G\n",
    "            \n",
    "            if mask == \"F\":\n",
    "                F_ = ImproperUniform()\n",
    "            elif mask == \"G\":\n",
    "                G_ = ImproperUniform()\n",
    "\n",
    "            P[i] = irp.pp.intrusion(t_s, t_e, S, pi, F_, G_)\n",
    "            M[i, :] = irp.pp.marginal(t_s, t_e, S, pi, F_, G_)\n",
    "            L[i, :] = irp.map.labels(t_s, t_e, S, pi, F_, G_)\n",
    "\n",
    "        ds[\"P\" + str(EM) + mask] = P\n",
    "        ds[\"M\" + str(EM) + mask] = M\n",
    "        ds[\"L\" + str(EM) + mask] = L"
   ]
  },
  {
   "cell_type": "markdown",
   "metadata": {},
   "source": [
    "Let's now compute posteriors for all samples in all data sets."
   ]
  },
  {
   "cell_type": "code",
   "execution_count": 109,
   "metadata": {},
   "outputs": [
    {
     "name": "stdout",
     "output_type": "stream",
     "text": [
      "EM\tp\n",
      "False\t0.0125 ✓\n",
      "True\t0.0125 ✓\n",
      "False\t0.0250 ✓\n",
      "True\t0.0250 ✓\n",
      "False\t0.0500 ✓\n",
      "True\t0.0500 ✓\n",
      "False\t0.1000 ✓\n",
      "True\t0.1000 ✓\n",
      "False\t0.2000 ✓\n",
      "True\t0.2000 ✓\n"
     ]
    }
   ],
   "source": [
    "F = ngamma(a=FA, scale=FSCALE)\n",
    "G = nexpon(scale=GSCALE)\n",
    "print(\"EM\\tp\")\n",
    "for ds in DATASETS:\n",
    "    for EM in [False, True]:\n",
    "        print(\"{}\\t{:.4f}\".format(EM, ds[\"p\"]), end=\" \")\n",
    "        posteriors(ds, EM, F, G)\n",
    "        print(\"✓\")"
   ]
  },
  {
   "cell_type": "markdown",
   "metadata": {},
   "source": [
    "Based on the computed results, we can obtain statistics on intrusion detection.\n",
    "\n",
    "#### Basic analytics\n",
    "\n",
    "First, we compute just the average intrusion probability in positive and negative samples. The greater the difference between these two numbers, the higher is the detection accuracy."
   ]
  },
  {
   "cell_type": "code",
   "execution_count": 110,
   "metadata": {
    "scrolled": false
   },
   "outputs": [
    {
     "name": "stdout",
     "output_type": "stream",
     "text": [
      "EM\tp\tnP\tpP\tnN\tpN\n",
      "False\t0.0125\t496\t0.1561\t504\t0.0223\n",
      "True\t0.0125\t496\t0.0459\t504\t0.0157\n",
      "False\t0.0125\t496\t0.0789\t504\t0.0484\n",
      "True\t0.0125\t496\t0.0528\t504\t0.0392\n",
      "False\t0.0125\t496\t0.0679\t504\t0.0065\n",
      "True\t0.0125\t496\t0.0152\t504\t0.0056\n",
      "False\t0.0250\t492\t0.2166\t508\t0.0447\n",
      "True\t0.0250\t492\t0.0813\t508\t0.0354\n",
      "False\t0.0250\t492\t0.1300\t508\t0.0900\n",
      "True\t0.0250\t492\t0.1000\t508\t0.0770\n",
      "False\t0.0250\t492\t0.1032\t508\t0.0150\n",
      "True\t0.0250\t492\t0.0299\t508\t0.0111\n",
      "False\t0.0500\t506\t0.2671\t494\t0.0760\n",
      "True\t0.0500\t506\t0.1211\t494\t0.0610\n",
      "False\t0.0500\t506\t0.1926\t494\t0.1579\n",
      "True\t0.0500\t506\t0.1615\t494\t0.1463\n",
      "False\t0.0500\t506\t0.1380\t494\t0.0258\n",
      "True\t0.0500\t506\t0.0483\t494\t0.0214\n",
      "False\t0.1000\t479\t0.3717\t521\t0.1271\n",
      "True\t0.1000\t479\t0.2081\t521\t0.1105\n",
      "False\t0.1000\t479\t0.3248\t521\t0.2581\n",
      "True\t0.1000\t479\t0.2919\t521\t0.2537\n",
      "False\t0.1000\t479\t0.2009\t521\t0.0525\n",
      "True\t0.1000\t479\t0.0837\t521\t0.0471\n",
      "False\t0.2000\t491\t0.4999\t509\t0.2431\n",
      "True\t0.2000\t491\t0.3224\t509\t0.2130\n",
      "False\t0.2000\t491\t0.4962\t509\t0.4499\n",
      "True\t0.2000\t491\t0.4700\t509\t0.4455\n",
      "False\t0.2000\t491\t0.3065\t509\t0.1116\n",
      "True\t0.2000\t491\t0.1630\t509\t0.0931\n"
     ]
    }
   ],
   "source": [
    "print(\"EM\\tp\\tnP\\tpP\\tnN\\tpN\")\n",
    "ps = set()\n",
    "curves = {}\n",
    "for ds in DATASETS:\n",
    "    for mask in [\"\", \"F\", \"G\"]:\n",
    "        for EM in [\"False\", \"True\"]:\n",
    "            pP = 0.\n",
    "            pP2 = 0.\n",
    "            pN = 0.\n",
    "            pN2 = 0.\n",
    "            nP = 0\n",
    "            nN = 0\n",
    "            for i in range(ds[\"S\"].shape[0]):\n",
    "                if sum(ds[\"Z\"][i, :]) > 0:\n",
    "                    pi = ds[\"P\" + EM + mask][i]\n",
    "                    pP += pi\n",
    "                    pP2 += pi * pi\n",
    "                    nP += 1\n",
    "                else:\n",
    "                    pi = ds[\"P\" + EM + mask][i]\n",
    "                    pN += pi\n",
    "                    pN2 += pi * pi\n",
    "                    nN += 1\n",
    "            pP /= max(nP, 1)\n",
    "            pN /= max(nN, 1)\n",
    "            pP2 /= max(nP, 1)\n",
    "            pN2 /= max(nN, 1)\n",
    "            ps.add(ds[\"p\"])\n",
    "            if (EM + mask) not in curves:\n",
    "                curves[EM + mask]  = {}\n",
    "            curves[EM + mask][ds[\"p\"]] = [pP, pN,\n",
    "                                   numpy.sqrt(pP2 - pP * pP),\n",
    "                                   numpy.sqrt(pN2 - pN * pN)]\n",
    "            print(\"{}\\t{:.4f}\\t{:d}\\t{:.4f}\\t{:d}\\t{:.4f}\"\n",
    "                  .format(EM, ds[\"p\"], nP, pP, nN, pN))\n",
    "ps = sorted(list(ps))"
   ]
  },
  {
   "cell_type": "markdown",
   "metadata": {},
   "source": [
    "Let's visualize the average alert score as function of intrusion probability."
   ]
  },
  {
   "cell_type": "code",
   "execution_count": 138,
   "metadata": {},
   "outputs": [
    {
     "data": {
      "image/png": "[encoded data removed]",
      "text/plain": [
       "<matplotlib.figure.Figure at 0x7f21f29c3fd0>"
      ]
     },
     "metadata": {},
     "output_type": "display_data"
    }
   ],
   "source": [
    "f_s_aas, sps = plt.subplots(2, 3, sharex=True, sharey=True)\n",
    "f_s_aas.subplots_adjust(hspace=0.1, wspace=0.05)\n",
    "f_s_aas.set_figwidth(15)\n",
    "f_s_aas.set_figheight(5)\n",
    "sps[0, 0].set_ylabel(\"alert score (known process)\")\n",
    "sps[1, 0].set_ylabel(\"alert score (EM)\")\n",
    "sps[0, 0].set_title(\"Marks and intervals\")\n",
    "sps[0, 1].set_title(\"Marks only\")\n",
    "sps[0, 2].set_title(\"Intervals only\")\n",
    "for j, mask in enumerate([\"\", \"F\", \"G\"]):\n",
    "    sps[1, j].set_xlabel(\"intrusion probability\")\n",
    "    for i in range(2):\n",
    "        sps[i, j].set_ylim(0, 0.8)\n",
    "    for (i, em) in enumerate([\"False\", \"True\"]):\n",
    "        ys = numpy.array([curves[em + mask][p] for p in ps])\n",
    "        sps[i, j].errorbar(xs, ys[:, 0], yerr=ys[:, 2], marker='o', capsize=4, label=\"intrusion\", color=[0, 0.7, 1])\n",
    "        sps[i, j].errorbar(xs, ys[:, 1], yerr=ys[:, 3], marker='x', capsize=4, label=\"no intrusion\", color=[1, 0.7, 0])\n",
    "    handles, labels = spem.get_legend_handles_labels()\n",
    "sps[0, 2].legend(handles, labels)\n",
    "# f_s_aas.savefig('../figures/synthetic-alert-score.pdf')"
   ]
  },
  {
   "cell_type": "markdown",
   "metadata": {},
   "source": [
    "#### Fine-grained metrics\n",
    "\n",
    "We also obtain more fine-grained metrics of detection accuracy. \n",
    "\n",
    "* AUC on total intrusion probability\n",
    "* AUC on marginal event probabilities\n",
    "* Jackard similarity for MAP"
   ]
  },
  {
   "cell_type": "markdown",
   "metadata": {},
   "source": [
    "#### AUC"
   ]
  },
  {
   "cell_type": "code",
   "execution_count": 90,
   "metadata": {},
   "outputs": [
    {
     "name": "stdout",
     "output_type": "stream",
     "text": [
      "EM\tp\tauc\n",
      "False\t0.0125\t0.4141\n",
      "True\t0.0125\t0.4646\n",
      "False\t0.0500\t0.7273\n",
      "True\t0.0500\t0.6263\n",
      "False\t0.2000\t0.5729\n",
      "True\t0.2000\t0.4896\n"
     ]
    },
    {
     "data": {
      "image/png": "[encoded data removed]",
      "text/plain": [
       "<matplotlib.figure.Figure at 0x7f21f294a908>"
      ]
     },
     "metadata": {},
     "output_type": "display_data"
    }
   ],
   "source": [
    "print(\"EM\\tp\\tauc\")\n",
    "pcurves = {False: {}, True: {}}\n",
    "f, (sproc, sppr) = plt.subplots(1, 2)\n",
    "f.set_figwidth(10)\n",
    "sproc.set_xlabel(\"FPR\")\n",
    "sproc.set_ylabel(\"TPR\")\n",
    "sppr.set_xlabel(\"Recall\")\n",
    "sppr.set_ylabel(\"Precision\")\n",
    "for ds in DATASETS:\n",
    "    for EM in [False, True]:\n",
    "        fpr, tpr, thresholds = metrics.roc_curve(ds[\"Z\"].sum(axis=1) > 0,\n",
    "                                                 ds[\"P\" + str(EM)], \n",
    "                                                 pos_label=True)\n",
    "        precision, recall, thresholds = metrics.precision_recall_curve(\n",
    "                                                 ds[\"Z\"].sum(axis=1) > 0,\n",
    "                                                 ds[\"P\" + str(EM)],\n",
    "                                                 pos_label=True)\n",
    "        sproc.plot(fpr, tpr)\n",
    "        sppr.plot(recall, precision)\n",
    "        auc = metrics.auc(fpr, tpr)\n",
    "        pcurves[EM][ds[\"p\"]] = auc\n",
    "        print(\"{}\\t{:.4f}\\t{:.4f}\"\n",
    "              .format(EM, ds[\"p\"], auc))"
   ]
  },
  {
   "cell_type": "markdown",
   "metadata": {},
   "source": [
    "Let's visualize AUC:"
   ]
  },
  {
   "cell_type": "code",
   "execution_count": 91,
   "metadata": {},
   "outputs": [
    {
     "data": {
      "image/png": "[encoded data removed]",
      "text/plain": [
       "<matplotlib.figure.Figure at 0x7f21f1a86198>"
      ]
     },
     "metadata": {},
     "output_type": "display_data"
    }
   ],
   "source": [
    "xs = ps\n",
    "f_s_pauc, (spnoem, spem) = plt.subplots(1, 2, sharey=True)\n",
    "f_s_pauc.subplots_adjust(wspace=0.05)\n",
    "f_s_pauc.set_figwidth(10)\n",
    "f_s_pauc.set_figheight(2)\n",
    "spnoem.set_title(\"Known process\")\n",
    "spem.set_title(\"EM\")\n",
    "spnoem.set_ylabel(\"AUC\")\n",
    "for sp in [spnoem, spem]:\n",
    "    sp.set_xlabel(\"intrusion probability\")\n",
    "    sp.set_ylim(0.5, 1)\n",
    "    sp.axhline(y=0.5, color='black', lw=1, ls='dashed')\n",
    "for (em, sp) in [(False, spnoem), (True, spem)]:\n",
    "    ys = numpy.array([pcurves[em][p] for p in ps])\n",
    "    sp.plot(xs, ys, marker='o')\n",
    "handles, labels = spem.get_legend_handles_labels()\n",
    "spem.legend(handles, labels)\n",
    "f_s_pauc.savefig(\"../figures/synthetic-auc-per-log.pdf\")"
   ]
  },
  {
   "cell_type": "markdown",
   "metadata": {},
   "source": [
    "#### AUC of individual events"
   ]
  },
  {
   "cell_type": "code",
   "execution_count": 92,
   "metadata": {},
   "outputs": [
    {
     "name": "stdout",
     "output_type": "stream",
     "text": [
      "EM\tp\tauc\n",
      "False\t0.0125\t0.7923\n",
      "True\t0.0125\t0.8556\n",
      "False\t0.0500\t0.8581\n",
      "True\t0.0500\t0.8516\n",
      "False\t0.2000\t0.8626\n",
      "True\t0.2000\t0.8520\n"
     ]
    },
    {
     "data": {
      "image/png": "[encoded data removed]",
      "text/plain": [
       "<matplotlib.figure.Figure at 0x7f21f1edaf98>"
      ]
     },
     "metadata": {},
     "output_type": "display_data"
    }
   ],
   "source": [
    "print(\"EM\\tp\\tauc\")\n",
    "lcurves = {False: {}, True: {}}\n",
    "f, (sproc, sppr) = plt.subplots(1, 2)\n",
    "f.set_figwidth(10)\n",
    "sproc.set_xlabel(\"FPR\")\n",
    "sproc.set_ylabel(\"TPR\")\n",
    "sppr.set_xlabel(\"Recall\")\n",
    "sppr.set_ylabel(\"Precision\")\n",
    "for ds in DATASETS:\n",
    "    for EM in [False, True]:\n",
    "        fpr, tpr, thresholds = metrics.roc_curve(ds[\"Z\"].reshape((-1, 1)),\n",
    "                                                 ds[\"M\" + str(EM)].reshape((-1, 1)), \n",
    "                                                 pos_label=1)\n",
    "        precision, recall, thresholds = metrics.precision_recall_curve(\n",
    "                                                 ds[\"Z\"].reshape((-1, 1)),\n",
    "                                                 ds[\"M\" + str(EM)].reshape((-1, 1)), \n",
    "                                                 pos_label=1)\n",
    "        auc = metrics.auc(fpr, tpr)\n",
    "        sproc.plot(fpr, tpr)\n",
    "        sppr.plot(precision, recall)\n",
    "        lcurves[EM][ds[\"p\"]] = auc\n",
    "        print(\"{}\\t{:.4f}\\t{:.4f}\"\n",
    "              .format(EM, ds[\"p\"], auc))"
   ]
  },
  {
   "cell_type": "code",
   "execution_count": 93,
   "metadata": {},
   "outputs": [
    {
     "data": {
      "image/png": "[encoded data removed]",
      "text/plain": [
       "<matplotlib.figure.Figure at 0x7f21f2824470>"
      ]
     },
     "metadata": {},
     "output_type": "display_data"
    }
   ],
   "source": [
    "xs = ps\n",
    "f_s_mauc, (spnoem, spem) = plt.subplots(1, 2, sharey=True)\n",
    "f_s_mauc.subplots_adjust(wspace=0.05)\n",
    "f_s_mauc.set_figwidth(10)\n",
    "f_s_mauc.set_figheight(2)\n",
    "spnoem.set_title(\"Known process\")\n",
    "spem.set_title(\"EM\")\n",
    "spnoem.set_ylabel(\"AUC\")\n",
    "for sp in [spnoem, spem]:\n",
    "    sp.set_xlabel(\"intrusion probability\")\n",
    "    sp.set_ylim(0.5, 1)\n",
    "for (em, sp) in [(False, spnoem), (True, spem)]:\n",
    "    ys = numpy.array([lcurves[em][p] for p in ps])\n",
    "    sp.plot(xs, ys, marker='o')\n",
    "handles, labels = spem.get_legend_handles_labels()\n",
    "spem.legend(handles, labels, loc='lower right')\n",
    "f_s_mauc.savefig(\"../figures/synthetic-auc-per-event.pdf\")"
   ]
  },
  {
   "cell_type": "markdown",
   "metadata": {},
   "source": [
    "#### Jaccard similarity"
   ]
  },
  {
   "cell_type": "code",
   "execution_count": 18,
   "metadata": {},
   "outputs": [
    {
     "name": "stdout",
     "output_type": "stream",
     "text": [
      "EM\tp\tjss\n",
      "False\t0.0125\t0.7000\n",
      "True\t0.0125\t0.6500\n",
      "False\t0.0500\t0.6000\n",
      "True\t0.0500\t0.5500\n",
      "False\t0.2000\t0.6000\n",
      "True\t0.2000\t0.6500\n"
     ]
    }
   ],
   "source": [
    "print(\"EM\\tp\\tjss\")\n",
    "jcurves = {False: {}, True: {}}\n",
    "for ds in DATASETS:\n",
    "    for EM in [False, True]:\n",
    "        jss = metrics.jaccard_similarity_score(ds[\"Z\"], ds[\"L\" + str(EM)])\n",
    "        jcurves[EM][ds[\"p\"]] = jss\n",
    "        print(\"{}\\t{:.4f}\\t{:.4f}\"\n",
    "              .format(EM, ds[\"p\"], jss))"
   ]
  },
  {
   "cell_type": "markdown",
   "metadata": {},
   "source": [
    "Let's visualize Jaccard score:"
   ]
  },
  {
   "cell_type": "code",
   "execution_count": 33,
   "metadata": {},
   "outputs": [
    {
     "data": {
      "image/png": "[encoded data removed]",
      "text/plain": [
       "<matplotlib.figure.Figure at 0x7f21f2376710>"
      ]
     },
     "metadata": {},
     "output_type": "display_data"
    }
   ],
   "source": [
    "xs = ps\n",
    "f_s_jss, (spnoem, spem) = plt.subplots(1, 2, sharey=True)\n",
    "f_s_jss.subplots_adjust(wspace=0.05)\n",
    "f_s_jss.set_figwidth(10)\n",
    "f_s_jss.set_figheight(2)\n",
    "spnoem.set_title(\"Known process\")\n",
    "spem.set_title(\"EM\")\n",
    "spnoem.set_ylabel(\"Jaccard score\")\n",
    "for sp in [spnoem, spem]:\n",
    "    sp.set_xlabel(\"intrusion probability\")\n",
    "    sp.set_ylim(0, 1)\n",
    "for (em, sp) in [(False, spnoem), (True, spem)]:\n",
    "    ys = numpy.array([pcurves[em][p] for p in ps])\n",
    "    sp.plot(xs, ys, marker='o')\n",
    "handles, labels = spem.get_legend_handles_labels()\n",
    "spem.legend(handles, labels, loc='lower right')\n",
    "f_s_jss.savefig(\"../figures/synthetic-jaccard-score.pdf\")"
   ]
  },
  {
   "cell_type": "markdown",
   "metadata": {},
   "source": [
    "## Evaluation on anonymized real-world data"
   ]
  },
  {
   "cell_type": "code",
   "execution_count": 20,
   "metadata": {},
   "outputs": [],
   "source": [
    "def cfname(t, intr):\n",
    "    return format(\"../data/{}-collected-{}.npy\".format(t, intr))"
   ]
  },
  {
   "cell_type": "markdown",
   "metadata": {},
   "source": [
    "The dataset as given is split into positive and negative samples. We load the dataset and concatenate both parts."
   ]
  },
  {
   "cell_type": "code",
   "execution_count": 21,
   "metadata": {},
   "outputs": [],
   "source": [
    "Ss = []\n",
    "Zs = []\n",
    "for intr in [\"negative\", \"positive\"]:\n",
    "    Ss.append(numpy.load(cfname(\"s\", intr)))\n",
    "    Zs.append(numpy.load(cfname(\"z\", intr)))\n",
    "ds = {}\n",
    "ds[\"S\"] = numpy.concatenate(Ss, axis=0)\n",
    "ds[\"Z\"] = numpy.concatenate(Zs, axis=0)\n",
    "ds[\"T\"] = numpy.array([[0., 1.]] * ds[\"S\"].shape[0])\n",
    "assert ds[\"S\"].shape[0] == ds[\"Z\"].shape[0]"
   ]
  },
  {
   "cell_type": "markdown",
   "metadata": {},
   "source": [
    "We shuffle samples in the data set and split it into the training and testing data set. We will use the training dataset to estimate prior probability of intrusion."
   ]
  },
  {
   "cell_type": "code",
   "execution_count": 22,
   "metadata": {},
   "outputs": [
    {
     "name": "stdout",
     "output_type": "stream",
     "text": [
      "1000 samples, 50 time points per sample\n"
     ]
    }
   ],
   "source": [
    "NSAMPLES, N, _ = ds[\"S\"].shape\n",
    "TRAIN_FRACTION = 10\n",
    "\n",
    "indices = numpy.array(range(NSAMPLES))\n",
    "numpy.random.shuffle(indices)\n",
    "\n",
    "ds[\"S\"] = ds[\"S\"][indices]\n",
    "ds[\"Z\"] = ds[\"Z\"][indices]\n",
    "\n",
    "print(\"{} samples, {} time points per sample\".format(NSAMPLES, N))\n",
    "\n",
    "train_indices = indices[:len(indices) // TRAIN_FRACTION]\n",
    "test_indices = indices[len(indices) // TRAIN_FRACTION:]\n",
    "\n",
    "ds_train = {}\n",
    "ds_test = {}\n",
    "for key in [\"S\", \"Z\", \"T\"]:\n",
    "    ds_train[key] = ds[key][train_indices]\n",
    "    ds_test[key] = ds[key][test_indices]"
   ]
  },
  {
   "cell_type": "code",
   "execution_count": 23,
   "metadata": {
    "scrolled": false
   },
   "outputs": [
    {
     "name": "stdout",
     "output_type": "stream",
     "text": [
      "p\tpauc\tmauc\tjss\n"
     ]
    },
    {
     "ename": "KeyboardInterrupt",
     "evalue": "",
     "output_type": "error",
     "traceback": [
      "\u001b[0;31m---------------------------------------------------------------------------\u001b[0m",
      "\u001b[0;31mKeyboardInterrupt\u001b[0m                         Traceback (most recent call last)",
      "\u001b[0;32m<ipython-input-23-1cd8c342f034>\u001b[0m in \u001b[0;36m<module>\u001b[0;34m()\u001b[0m\n\u001b[1;32m      8\u001b[0m \u001b[0;32mfor\u001b[0m \u001b[0mp\u001b[0m \u001b[0;32min\u001b[0m \u001b[0mps\u001b[0m\u001b[0;34m:\u001b[0m\u001b[0;34m\u001b[0m\u001b[0m\n\u001b[1;32m      9\u001b[0m     \u001b[0mds_train\u001b[0m\u001b[0;34m[\u001b[0m\u001b[0;34m\"p\"\u001b[0m\u001b[0;34m]\u001b[0m \u001b[0;34m=\u001b[0m \u001b[0mp\u001b[0m\u001b[0;34m\u001b[0m\u001b[0m\n\u001b[0;32m---> 10\u001b[0;31m     \u001b[0mposteriors\u001b[0m\u001b[0;34m(\u001b[0m\u001b[0mds_train\u001b[0m\u001b[0;34m,\u001b[0m \u001b[0mEM\u001b[0m\u001b[0;34m=\u001b[0m\u001b[0;32mTrue\u001b[0m\u001b[0;34m,\u001b[0m \u001b[0mF\u001b[0m\u001b[0;34m=\u001b[0m\u001b[0;32mNone\u001b[0m\u001b[0;34m,\u001b[0m \u001b[0mG\u001b[0m\u001b[0;34m=\u001b[0m\u001b[0;32mNone\u001b[0m\u001b[0;34m)\u001b[0m\u001b[0;34m\u001b[0m\u001b[0m\n\u001b[0m\u001b[1;32m     11\u001b[0m     fpr, tpr, thresholds = metrics.roc_curve(ds_train[\"Z\"].sum(axis=1) > 0,\n\u001b[1;32m     12\u001b[0m                                              \u001b[0mds_train\u001b[0m\u001b[0;34m[\u001b[0m\u001b[0;34m\"PTrue\"\u001b[0m\u001b[0;34m]\u001b[0m\u001b[0;34m,\u001b[0m\u001b[0;34m\u001b[0m\u001b[0m\n",
      "\u001b[0;32m<ipython-input-10-fb1c5e92acd3>\u001b[0m in \u001b[0;36mposteriors\u001b[0;34m(ds, EM, F, G)\u001b[0m\n\u001b[1;32m      9\u001b[0m         \u001b[0;32mif\u001b[0m \u001b[0mEM\u001b[0m\u001b[0;34m:\u001b[0m\u001b[0;34m\u001b[0m\u001b[0m\n\u001b[1;32m     10\u001b[0m             \u001b[0mF\u001b[0m\u001b[0;34m,\u001b[0m \u001b[0mG\u001b[0m\u001b[0;34m,\u001b[0m \u001b[0m_\u001b[0m \u001b[0;34m=\u001b[0m \u001b[0mirp\u001b[0m\u001b[0;34m.\u001b[0m\u001b[0mem\u001b[0m\u001b[0;34m.\u001b[0m\u001b[0mparameters\u001b[0m\u001b[0;34m(\u001b[0m\u001b[0mt_s\u001b[0m\u001b[0;34m,\u001b[0m \u001b[0mt_e\u001b[0m\u001b[0;34m,\u001b[0m \u001b[0mS\u001b[0m\u001b[0;34m,\u001b[0m \u001b[0mpi\u001b[0m\u001b[0;34m)\u001b[0m\u001b[0;34m\u001b[0m\u001b[0m\n\u001b[0;32m---> 11\u001b[0;31m         \u001b[0mP\u001b[0m\u001b[0;34m[\u001b[0m\u001b[0mi\u001b[0m\u001b[0;34m]\u001b[0m \u001b[0;34m=\u001b[0m \u001b[0mirp\u001b[0m\u001b[0;34m.\u001b[0m\u001b[0mpp\u001b[0m\u001b[0;34m.\u001b[0m\u001b[0mintrusion\u001b[0m\u001b[0;34m(\u001b[0m\u001b[0mt_s\u001b[0m\u001b[0;34m,\u001b[0m \u001b[0mt_e\u001b[0m\u001b[0;34m,\u001b[0m \u001b[0mS\u001b[0m\u001b[0;34m,\u001b[0m \u001b[0mpi\u001b[0m\u001b[0;34m,\u001b[0m \u001b[0mF\u001b[0m\u001b[0;34m,\u001b[0m \u001b[0mG\u001b[0m\u001b[0;34m)\u001b[0m\u001b[0;34m\u001b[0m\u001b[0m\n\u001b[0m\u001b[1;32m     12\u001b[0m         \u001b[0mM\u001b[0m\u001b[0;34m[\u001b[0m\u001b[0mi\u001b[0m\u001b[0;34m,\u001b[0m \u001b[0;34m:\u001b[0m\u001b[0;34m]\u001b[0m \u001b[0;34m=\u001b[0m \u001b[0mirp\u001b[0m\u001b[0;34m.\u001b[0m\u001b[0mpp\u001b[0m\u001b[0;34m.\u001b[0m\u001b[0mmarginal\u001b[0m\u001b[0;34m(\u001b[0m\u001b[0mt_s\u001b[0m\u001b[0;34m,\u001b[0m \u001b[0mt_e\u001b[0m\u001b[0;34m,\u001b[0m \u001b[0mS\u001b[0m\u001b[0;34m,\u001b[0m \u001b[0mpi\u001b[0m\u001b[0;34m,\u001b[0m \u001b[0mF\u001b[0m\u001b[0;34m,\u001b[0m \u001b[0mG\u001b[0m\u001b[0;34m)\u001b[0m\u001b[0;34m\u001b[0m\u001b[0m\n\u001b[1;32m     13\u001b[0m         \u001b[0mL\u001b[0m\u001b[0;34m[\u001b[0m\u001b[0mi\u001b[0m\u001b[0;34m,\u001b[0m \u001b[0;34m:\u001b[0m\u001b[0;34m]\u001b[0m \u001b[0;34m=\u001b[0m \u001b[0mirp\u001b[0m\u001b[0;34m.\u001b[0m\u001b[0mmap\u001b[0m\u001b[0;34m.\u001b[0m\u001b[0mlabels\u001b[0m\u001b[0;34m(\u001b[0m\u001b[0mt_s\u001b[0m\u001b[0;34m,\u001b[0m \u001b[0mt_e\u001b[0m\u001b[0;34m,\u001b[0m \u001b[0mS\u001b[0m\u001b[0;34m,\u001b[0m \u001b[0mpi\u001b[0m\u001b[0;34m,\u001b[0m \u001b[0mF\u001b[0m\u001b[0;34m,\u001b[0m \u001b[0mG\u001b[0m\u001b[0;34m)\u001b[0m\u001b[0;34m\u001b[0m\u001b[0m\n",
      "\u001b[0;32m~/work/irp-case-studies/irp/pp.py\u001b[0m in \u001b[0;36mintrusion\u001b[0;34m(t_s, t_e, S, pi, F, G)\u001b[0m\n\u001b[1;32m     81\u001b[0m \u001b[0;34m\u001b[0m\u001b[0m\n\u001b[1;32m     82\u001b[0m     \u001b[0;31m# Compute marginal likelihood of S\u001b[0m\u001b[0;34m\u001b[0m\u001b[0;34m\u001b[0m\u001b[0m\n\u001b[0;32m---> 83\u001b[0;31m     \u001b[0mPs\u001b[0m\u001b[0;34m,\u001b[0m \u001b[0m_\u001b[0m \u001b[0;34m=\u001b[0m \u001b[0m_ps\u001b[0m\u001b[0;34m(\u001b[0m\u001b[0mt_s\u001b[0m\u001b[0;34m,\u001b[0m \u001b[0mt_e\u001b[0m\u001b[0;34m,\u001b[0m \u001b[0mS\u001b[0m\u001b[0;34m,\u001b[0m \u001b[0mpi\u001b[0m\u001b[0;34m,\u001b[0m \u001b[0mF\u001b[0m\u001b[0;34m,\u001b[0m \u001b[0mG\u001b[0m\u001b[0;34m)\u001b[0m\u001b[0;34m\u001b[0m\u001b[0m\n\u001b[0m\u001b[1;32m     84\u001b[0m \u001b[0;34m\u001b[0m\u001b[0m\n\u001b[1;32m     85\u001b[0m     \u001b[0;31m# Section 5.4, Equation 17\u001b[0m\u001b[0;34m\u001b[0m\u001b[0;34m\u001b[0m\u001b[0m\n",
      "\u001b[0;32m~/work/irp-case-studies/irp/pp.py\u001b[0m in \u001b[0;36m_ps\u001b[0;34m(t_s, t_e, S, pi, F, G)\u001b[0m\n\u001b[1;32m     23\u001b[0m         \u001b[0;32mfor\u001b[0m \u001b[0mj\u001b[0m \u001b[0;32min\u001b[0m \u001b[0mrange\u001b[0m\u001b[0;34m(\u001b[0m\u001b[0mk\u001b[0m\u001b[0;34m)\u001b[0m\u001b[0;34m:\u001b[0m\u001b[0;34m\u001b[0m\u001b[0m\n\u001b[1;32m     24\u001b[0m             \u001b[0mtj\u001b[0m \u001b[0;34m=\u001b[0m \u001b[0mS\u001b[0m\u001b[0;34m[\u001b[0m\u001b[0mj\u001b[0m\u001b[0;34m]\u001b[0m\u001b[0;34m[\u001b[0m\u001b[0;36m0\u001b[0m\u001b[0;34m]\u001b[0m\u001b[0;34m\u001b[0m\u001b[0m\n\u001b[0;32m---> 25\u001b[0;31m             \u001b[0mP\u001b[0m\u001b[0;34m[\u001b[0m\u001b[0mk\u001b[0m\u001b[0;34m]\u001b[0m \u001b[0;34m+=\u001b[0m \u001b[0mP\u001b[0m\u001b[0;34m[\u001b[0m\u001b[0mj\u001b[0m\u001b[0;34m]\u001b[0m \u001b[0;34m*\u001b[0m \u001b[0mpi\u001b[0m \u001b[0;34m**\u001b[0m \u001b[0;34m(\u001b[0m\u001b[0mk\u001b[0m \u001b[0;34m-\u001b[0m \u001b[0mj\u001b[0m \u001b[0;34m-\u001b[0m \u001b[0;36m1\u001b[0m\u001b[0;34m)\u001b[0m \u001b[0;34m*\u001b[0m \u001b[0mF\u001b[0m\u001b[0;34m.\u001b[0m\u001b[0mpdf\u001b[0m\u001b[0;34m(\u001b[0m\u001b[0mtk\u001b[0m \u001b[0;34m-\u001b[0m \u001b[0mtj\u001b[0m\u001b[0;34m)\u001b[0m\u001b[0;34m\u001b[0m\u001b[0m\n\u001b[0m\u001b[1;32m     26\u001b[0m         \u001b[0mP\u001b[0m\u001b[0;34m[\u001b[0m\u001b[0mk\u001b[0m\u001b[0;34m]\u001b[0m \u001b[0;34m*=\u001b[0m \u001b[0;34m(\u001b[0m\u001b[0;36m1\u001b[0m \u001b[0;34m-\u001b[0m \u001b[0mpi\u001b[0m\u001b[0;34m)\u001b[0m \u001b[0;34m*\u001b[0m \u001b[0mG\u001b[0m\u001b[0;34m.\u001b[0m\u001b[0mpdf\u001b[0m\u001b[0;34m(\u001b[0m\u001b[0myk\u001b[0m\u001b[0;34m)\u001b[0m\u001b[0;34m\u001b[0m\u001b[0m\n\u001b[1;32m     27\u001b[0m     \u001b[0mPs\u001b[0m \u001b[0;34m=\u001b[0m \u001b[0mpi\u001b[0m \u001b[0;34m**\u001b[0m \u001b[0mN\u001b[0m \u001b[0;34m*\u001b[0m \u001b[0mF\u001b[0m\u001b[0;34m.\u001b[0m\u001b[0msf\u001b[0m\u001b[0;34m(\u001b[0m\u001b[0mt_e\u001b[0m \u001b[0;34m-\u001b[0m \u001b[0mt_s\u001b[0m\u001b[0;34m)\u001b[0m\u001b[0;34m\u001b[0m\u001b[0m\n",
      "\u001b[0;32m~/work/irp-case-studies/irp/ndist.py\u001b[0m in \u001b[0;36mpdf\u001b[0;34m(self, x)\u001b[0m\n\u001b[1;32m     19\u001b[0m \u001b[0;34m\u001b[0m\u001b[0m\n\u001b[1;32m     20\u001b[0m     \u001b[0;32mdef\u001b[0m \u001b[0mpdf\u001b[0m\u001b[0;34m(\u001b[0m\u001b[0mself\u001b[0m\u001b[0;34m,\u001b[0m \u001b[0mx\u001b[0m\u001b[0;34m)\u001b[0m\u001b[0;34m:\u001b[0m\u001b[0;34m\u001b[0m\u001b[0m\n\u001b[0;32m---> 21\u001b[0;31m         \u001b[0md\u001b[0m \u001b[0;34m=\u001b[0m \u001b[0mself\u001b[0m\u001b[0;34m.\u001b[0m\u001b[0mdist\u001b[0m\u001b[0;34m.\u001b[0m\u001b[0mpdf\u001b[0m\u001b[0;34m(\u001b[0m\u001b[0mx\u001b[0m\u001b[0;34m)\u001b[0m\u001b[0;34m\u001b[0m\u001b[0m\n\u001b[0m\u001b[1;32m     22\u001b[0m         \u001b[0;32mreturn\u001b[0m \u001b[0md\u001b[0m\u001b[0;34m/\u001b[0m\u001b[0mself\u001b[0m\u001b[0;34m.\u001b[0m\u001b[0mnorm\u001b[0m\u001b[0;34m\u001b[0m\u001b[0m\n\u001b[1;32m     23\u001b[0m \u001b[0;34m\u001b[0m\u001b[0m\n",
      "\u001b[0;32m~/miniconda3/lib/python3.6/site-packages/scipy/stats/_distn_infrastructure.py\u001b[0m in \u001b[0;36mpdf\u001b[0;34m(self, x)\u001b[0m\n\u001b[1;32m    448\u001b[0m \u001b[0;34m\u001b[0m\u001b[0m\n\u001b[1;32m    449\u001b[0m     \u001b[0;32mdef\u001b[0m \u001b[0mpdf\u001b[0m\u001b[0;34m(\u001b[0m\u001b[0mself\u001b[0m\u001b[0;34m,\u001b[0m \u001b[0mx\u001b[0m\u001b[0;34m)\u001b[0m\u001b[0;34m:\u001b[0m   \u001b[0;31m# raises AttributeError in frozen discrete distribution\u001b[0m\u001b[0;34m\u001b[0m\u001b[0m\n\u001b[0;32m--> 450\u001b[0;31m         \u001b[0;32mreturn\u001b[0m \u001b[0mself\u001b[0m\u001b[0;34m.\u001b[0m\u001b[0mdist\u001b[0m\u001b[0;34m.\u001b[0m\u001b[0mpdf\u001b[0m\u001b[0;34m(\u001b[0m\u001b[0mx\u001b[0m\u001b[0;34m,\u001b[0m \u001b[0;34m*\u001b[0m\u001b[0mself\u001b[0m\u001b[0;34m.\u001b[0m\u001b[0margs\u001b[0m\u001b[0;34m,\u001b[0m \u001b[0;34m**\u001b[0m\u001b[0mself\u001b[0m\u001b[0;34m.\u001b[0m\u001b[0mkwds\u001b[0m\u001b[0;34m)\u001b[0m\u001b[0;34m\u001b[0m\u001b[0m\n\u001b[0m\u001b[1;32m    451\u001b[0m \u001b[0;34m\u001b[0m\u001b[0m\n\u001b[1;32m    452\u001b[0m     \u001b[0;32mdef\u001b[0m \u001b[0mlogpdf\u001b[0m\u001b[0;34m(\u001b[0m\u001b[0mself\u001b[0m\u001b[0;34m,\u001b[0m \u001b[0mx\u001b[0m\u001b[0;34m)\u001b[0m\u001b[0;34m:\u001b[0m\u001b[0;34m\u001b[0m\u001b[0m\n",
      "\u001b[0;32m~/miniconda3/lib/python3.6/site-packages/scipy/stats/_distn_infrastructure.py\u001b[0m in \u001b[0;36mpdf\u001b[0;34m(self, x, *args, **kwds)\u001b[0m\n\u001b[1;32m   1657\u001b[0m         \u001b[0mputmask\u001b[0m\u001b[0;34m(\u001b[0m\u001b[0moutput\u001b[0m\u001b[0;34m,\u001b[0m \u001b[0;34m(\u001b[0m\u001b[0;36m1\u001b[0m\u001b[0;34m-\u001b[0m\u001b[0mcond0\u001b[0m\u001b[0;34m)\u001b[0m\u001b[0;34m+\u001b[0m\u001b[0mnp\u001b[0m\u001b[0;34m.\u001b[0m\u001b[0misnan\u001b[0m\u001b[0;34m(\u001b[0m\u001b[0mx\u001b[0m\u001b[0;34m)\u001b[0m\u001b[0;34m,\u001b[0m \u001b[0mself\u001b[0m\u001b[0;34m.\u001b[0m\u001b[0mbadvalue\u001b[0m\u001b[0;34m)\u001b[0m\u001b[0;34m\u001b[0m\u001b[0m\n\u001b[1;32m   1658\u001b[0m         \u001b[0;32mif\u001b[0m \u001b[0mnp\u001b[0m\u001b[0;34m.\u001b[0m\u001b[0many\u001b[0m\u001b[0;34m(\u001b[0m\u001b[0mcond\u001b[0m\u001b[0;34m)\u001b[0m\u001b[0;34m:\u001b[0m\u001b[0;34m\u001b[0m\u001b[0m\n\u001b[0;32m-> 1659\u001b[0;31m             \u001b[0mgoodargs\u001b[0m \u001b[0;34m=\u001b[0m \u001b[0margsreduce\u001b[0m\u001b[0;34m(\u001b[0m\u001b[0mcond\u001b[0m\u001b[0;34m,\u001b[0m \u001b[0;34m*\u001b[0m\u001b[0;34m(\u001b[0m\u001b[0;34m(\u001b[0m\u001b[0mx\u001b[0m\u001b[0;34m,\u001b[0m\u001b[0;34m)\u001b[0m\u001b[0;34m+\u001b[0m\u001b[0margs\u001b[0m\u001b[0;34m+\u001b[0m\u001b[0;34m(\u001b[0m\u001b[0mscale\u001b[0m\u001b[0;34m,\u001b[0m\u001b[0;34m)\u001b[0m\u001b[0;34m)\u001b[0m\u001b[0;34m)\u001b[0m\u001b[0;34m\u001b[0m\u001b[0m\n\u001b[0m\u001b[1;32m   1660\u001b[0m             \u001b[0mscale\u001b[0m\u001b[0;34m,\u001b[0m \u001b[0mgoodargs\u001b[0m \u001b[0;34m=\u001b[0m \u001b[0mgoodargs\u001b[0m\u001b[0;34m[\u001b[0m\u001b[0;34m-\u001b[0m\u001b[0;36m1\u001b[0m\u001b[0;34m]\u001b[0m\u001b[0;34m,\u001b[0m \u001b[0mgoodargs\u001b[0m\u001b[0;34m[\u001b[0m\u001b[0;34m:\u001b[0m\u001b[0;34m-\u001b[0m\u001b[0;36m1\u001b[0m\u001b[0;34m]\u001b[0m\u001b[0;34m\u001b[0m\u001b[0m\n\u001b[1;32m   1661\u001b[0m             \u001b[0mplace\u001b[0m\u001b[0;34m(\u001b[0m\u001b[0moutput\u001b[0m\u001b[0;34m,\u001b[0m \u001b[0mcond\u001b[0m\u001b[0;34m,\u001b[0m \u001b[0mself\u001b[0m\u001b[0;34m.\u001b[0m\u001b[0m_pdf\u001b[0m\u001b[0;34m(\u001b[0m\u001b[0;34m*\u001b[0m\u001b[0mgoodargs\u001b[0m\u001b[0;34m)\u001b[0m \u001b[0;34m/\u001b[0m \u001b[0mscale\u001b[0m\u001b[0;34m)\u001b[0m\u001b[0;34m\u001b[0m\u001b[0m\n",
      "\u001b[0;32m~/miniconda3/lib/python3.6/site-packages/scipy/stats/_distn_infrastructure.py\u001b[0m in \u001b[0;36margsreduce\u001b[0;34m(cond, *args)\u001b[0m\n\u001b[1;32m    547\u001b[0m         \u001b[0mnewargs\u001b[0m \u001b[0;34m=\u001b[0m \u001b[0;34m[\u001b[0m\u001b[0mnewargs\u001b[0m\u001b[0;34m,\u001b[0m \u001b[0;34m]\u001b[0m\u001b[0;34m\u001b[0m\u001b[0m\n\u001b[1;32m    548\u001b[0m     \u001b[0mexpand_arr\u001b[0m \u001b[0;34m=\u001b[0m \u001b[0;34m(\u001b[0m\u001b[0mcond\u001b[0m \u001b[0;34m==\u001b[0m \u001b[0mcond\u001b[0m\u001b[0;34m)\u001b[0m\u001b[0;34m\u001b[0m\u001b[0m\n\u001b[0;32m--> 549\u001b[0;31m     \u001b[0;32mreturn\u001b[0m \u001b[0;34m[\u001b[0m\u001b[0mnp\u001b[0m\u001b[0;34m.\u001b[0m\u001b[0mextract\u001b[0m\u001b[0;34m(\u001b[0m\u001b[0mcond\u001b[0m\u001b[0;34m,\u001b[0m \u001b[0marr1\u001b[0m \u001b[0;34m*\u001b[0m \u001b[0mexpand_arr\u001b[0m\u001b[0;34m)\u001b[0m \u001b[0;32mfor\u001b[0m \u001b[0marr1\u001b[0m \u001b[0;32min\u001b[0m \u001b[0mnewargs\u001b[0m\u001b[0;34m]\u001b[0m\u001b[0;34m\u001b[0m\u001b[0m\n\u001b[0m\u001b[1;32m    550\u001b[0m \u001b[0;34m\u001b[0m\u001b[0m\n\u001b[1;32m    551\u001b[0m \u001b[0;34m\u001b[0m\u001b[0m\n",
      "\u001b[0;32m~/miniconda3/lib/python3.6/site-packages/scipy/stats/_distn_infrastructure.py\u001b[0m in \u001b[0;36m<listcomp>\u001b[0;34m(.0)\u001b[0m\n\u001b[1;32m    547\u001b[0m         \u001b[0mnewargs\u001b[0m \u001b[0;34m=\u001b[0m \u001b[0;34m[\u001b[0m\u001b[0mnewargs\u001b[0m\u001b[0;34m,\u001b[0m \u001b[0;34m]\u001b[0m\u001b[0;34m\u001b[0m\u001b[0m\n\u001b[1;32m    548\u001b[0m     \u001b[0mexpand_arr\u001b[0m \u001b[0;34m=\u001b[0m \u001b[0;34m(\u001b[0m\u001b[0mcond\u001b[0m \u001b[0;34m==\u001b[0m \u001b[0mcond\u001b[0m\u001b[0;34m)\u001b[0m\u001b[0;34m\u001b[0m\u001b[0m\n\u001b[0;32m--> 549\u001b[0;31m     \u001b[0;32mreturn\u001b[0m \u001b[0;34m[\u001b[0m\u001b[0mnp\u001b[0m\u001b[0;34m.\u001b[0m\u001b[0mextract\u001b[0m\u001b[0;34m(\u001b[0m\u001b[0mcond\u001b[0m\u001b[0;34m,\u001b[0m \u001b[0marr1\u001b[0m \u001b[0;34m*\u001b[0m \u001b[0mexpand_arr\u001b[0m\u001b[0;34m)\u001b[0m \u001b[0;32mfor\u001b[0m \u001b[0marr1\u001b[0m \u001b[0;32min\u001b[0m \u001b[0mnewargs\u001b[0m\u001b[0;34m]\u001b[0m\u001b[0;34m\u001b[0m\u001b[0m\n\u001b[0m\u001b[1;32m    550\u001b[0m \u001b[0;34m\u001b[0m\u001b[0m\n\u001b[1;32m    551\u001b[0m \u001b[0;34m\u001b[0m\u001b[0m\n",
      "\u001b[0;32m~/miniconda3/lib/python3.6/site-packages/numpy/lib/function_base.py\u001b[0m in \u001b[0;36mextract\u001b[0;34m(condition, arr)\u001b[0m\n\u001b[1;32m   2345\u001b[0m \u001b[0;34m\u001b[0m\u001b[0m\n\u001b[1;32m   2346\u001b[0m     \"\"\"\n\u001b[0;32m-> 2347\u001b[0;31m     \u001b[0;32mreturn\u001b[0m \u001b[0m_nx\u001b[0m\u001b[0;34m.\u001b[0m\u001b[0mtake\u001b[0m\u001b[0;34m(\u001b[0m\u001b[0mravel\u001b[0m\u001b[0;34m(\u001b[0m\u001b[0marr\u001b[0m\u001b[0;34m)\u001b[0m\u001b[0;34m,\u001b[0m \u001b[0mnonzero\u001b[0m\u001b[0;34m(\u001b[0m\u001b[0mravel\u001b[0m\u001b[0;34m(\u001b[0m\u001b[0mcondition\u001b[0m\u001b[0;34m)\u001b[0m\u001b[0;34m)\u001b[0m\u001b[0;34m[\u001b[0m\u001b[0;36m0\u001b[0m\u001b[0;34m]\u001b[0m\u001b[0;34m)\u001b[0m\u001b[0;34m\u001b[0m\u001b[0m\n\u001b[0m\u001b[1;32m   2348\u001b[0m \u001b[0;34m\u001b[0m\u001b[0m\n\u001b[1;32m   2349\u001b[0m \u001b[0;34m\u001b[0m\u001b[0m\n",
      "\u001b[0;32m~/miniconda3/lib/python3.6/site-packages/numpy/core/fromnumeric.py\u001b[0m in \u001b[0;36mnonzero\u001b[0;34m(a)\u001b[0m\n\u001b[1;32m   1608\u001b[0m \u001b[0;34m\u001b[0m\u001b[0m\n\u001b[1;32m   1609\u001b[0m     \"\"\"\n\u001b[0;32m-> 1610\u001b[0;31m     \u001b[0;32mreturn\u001b[0m \u001b[0m_wrapfunc\u001b[0m\u001b[0;34m(\u001b[0m\u001b[0ma\u001b[0m\u001b[0;34m,\u001b[0m \u001b[0;34m'nonzero'\u001b[0m\u001b[0;34m)\u001b[0m\u001b[0;34m\u001b[0m\u001b[0m\n\u001b[0m\u001b[1;32m   1611\u001b[0m \u001b[0;34m\u001b[0m\u001b[0m\n\u001b[1;32m   1612\u001b[0m \u001b[0;34m\u001b[0m\u001b[0m\n",
      "\u001b[0;32m~/miniconda3/lib/python3.6/site-packages/numpy/core/fromnumeric.py\u001b[0m in \u001b[0;36m_wrapfunc\u001b[0;34m(obj, method, *args, **kwds)\u001b[0m\n\u001b[1;32m     50\u001b[0m \u001b[0;32mdef\u001b[0m \u001b[0m_wrapfunc\u001b[0m\u001b[0;34m(\u001b[0m\u001b[0mobj\u001b[0m\u001b[0;34m,\u001b[0m \u001b[0mmethod\u001b[0m\u001b[0;34m,\u001b[0m \u001b[0;34m*\u001b[0m\u001b[0margs\u001b[0m\u001b[0;34m,\u001b[0m \u001b[0;34m**\u001b[0m\u001b[0mkwds\u001b[0m\u001b[0;34m)\u001b[0m\u001b[0;34m:\u001b[0m\u001b[0;34m\u001b[0m\u001b[0m\n\u001b[1;32m     51\u001b[0m     \u001b[0;32mtry\u001b[0m\u001b[0;34m:\u001b[0m\u001b[0;34m\u001b[0m\u001b[0m\n\u001b[0;32m---> 52\u001b[0;31m         \u001b[0;32mreturn\u001b[0m \u001b[0mgetattr\u001b[0m\u001b[0;34m(\u001b[0m\u001b[0mobj\u001b[0m\u001b[0;34m,\u001b[0m \u001b[0mmethod\u001b[0m\u001b[0;34m)\u001b[0m\u001b[0;34m(\u001b[0m\u001b[0;34m*\u001b[0m\u001b[0margs\u001b[0m\u001b[0;34m,\u001b[0m \u001b[0;34m**\u001b[0m\u001b[0mkwds\u001b[0m\u001b[0;34m)\u001b[0m\u001b[0;34m\u001b[0m\u001b[0m\n\u001b[0m\u001b[1;32m     53\u001b[0m \u001b[0;34m\u001b[0m\u001b[0m\n\u001b[1;32m     54\u001b[0m     \u001b[0;31m# An AttributeError occurs if the object does not have\u001b[0m\u001b[0;34m\u001b[0m\u001b[0;34m\u001b[0m\u001b[0m\n",
      "\u001b[0;31mKeyboardInterrupt\u001b[0m: "
     ]
    },
    {
     "data": {
      "image/png": "[encoded data removed]",
      "text/plain": [
       "<matplotlib.figure.Figure at 0x7f21f2a795c0>"
      ]
     },
     "metadata": {},
     "output_type": "display_data"
    }
   ],
   "source": [
    "ps = [0.001, 0.003, 0.01, 0.05, 0.2, 0.8]\n",
    "print(\"p\\tpauc\\tmauc\\tjss\")\n",
    "f, plot = plt.subplots(1, 1)\n",
    "plot.set_xlabel(\"FPR\")\n",
    "plot.set_ylabel(\"TPR\")\n",
    "maxauc = 0.\n",
    "pbest = 0.\n",
    "for p in ps:\n",
    "    ds_train[\"p\"] = p\n",
    "    posteriors(ds_train, EM=True, F=None, G=None)\n",
    "    fpr, tpr, thresholds = metrics.roc_curve(ds_train[\"Z\"].sum(axis=1) > 0,\n",
    "                                             ds_train[\"PTrue\"], \n",
    "                                             pos_label=True)\n",
    "    pauc = metrics.auc(fpr, tpr)\n",
    "    plot.plot(fpr, tpr, c='blue', label='per log')\n",
    "\n",
    "    fpr, tpr, thresholds = metrics.roc_curve(ds_train[\"Z\"].reshape(-1) > 0,\n",
    "                                             ds_train[\"MTrue\"].reshape(-1), \n",
    "                                             pos_label=True)\n",
    "    mauc = metrics.auc(fpr, tpr)\n",
    "    plot.plot(fpr, tpr, c='orange', label='per event')\n",
    "\n",
    "    jss = metrics.jaccard_similarity_score(ds_train[\"Z\"], ds_train[\"L\" + str(EM)])\n",
    "\n",
    "    print(\"{:.4f}\\t{:.4f}\\t{:.4f}\\t{:4f}\".format(p, pauc, mauc, jss))\n",
    "    \n",
    "    if mauc*pauc > maxauc:\n",
    "        pbest = p\n",
    "        maxauc = mauc*pauc\n",
    " \n",
    "print(\"pbest = {:.4f}\".format(pbest))\n",
    "\n",
    "handles, labels = plot.get_legend_handles_labels()\n",
    "plot.legend(handles[-2:], labels[-2:])"
   ]
  },
  {
   "cell_type": "markdown",
   "metadata": {},
   "source": [
    "We chose $p$, the prior intrusion probability, to maximize the AUC. With $p$ chosen, we  evaluate the algorithm on the test dataset. "
   ]
  },
  {
   "cell_type": "code",
   "execution_count": null,
   "metadata": {},
   "outputs": [],
   "source": [
    "ds_test[\"p\"] = pbest\n",
    "\n",
    "f_a_roc, plot = plt.subplots(1, 1)\n",
    "f_a_roc.set_figheight(2)\n",
    "plot.set_xlabel(\"FPR\")\n",
    "plot.set_ylabel(\"TPR\")\n",
    "\n",
    "posteriors(ds_test, EM=True, F=None, G=None)\n",
    "\n",
    "fpr, tpr, thresholds = metrics.roc_curve(ds_test[\"Z\"].sum(axis=1) > 0,\n",
    "                                         ds_test[\"PTrue\"], \n",
    "                                         pos_label=True)\n",
    "pauc = metrics.auc(fpr, tpr)\n",
    "plot.plot(fpr, tpr, c='blue', label='per log')\n",
    "\n",
    "fpr, tpr, thresholds = metrics.roc_curve(ds_test[\"Z\"].reshape(-1) > 0,\n",
    "                                         ds_test[\"MTrue\"].reshape(-1), \n",
    "                                         pos_label=True)\n",
    "mauc = metrics.auc(fpr, tpr)\n",
    "plot.plot(fpr, tpr, c='orange', label='per event')\n",
    "\n",
    "jss = metrics.jaccard_similarity_score(ds_test[\"Z\"], ds_test[\"L\" + str(EM)])\n",
    "\n",
    "handles, labels = plot.get_legend_handles_labels()\n",
    "plot.legend(handles[-2:], labels[-2:])\n",
    "\n",
    "print(\"per-log AUC: {:4f}\\nper-event AUC: {:4f}\\nJaccard similarity score: {:.4f}\"\n",
    "      .format(pauc, mauc, jss))\n",
    "f_a_roc.savefig(\"../figures/anonymized-roc.pdf\")"
   ]
  }
 ],
 "metadata": {
  "kernelspec": {
   "display_name": "Python 3",
   "language": "python",
   "name": "python3"
  },
  "language_info": {
   "codemirror_mode": {
    "name": "ipython",
    "version": 3
   },
   "file_extension": ".py",
   "mimetype": "text/x-python",
   "name": "python",
   "nbconvert_exporter": "python",
   "pygments_lexer": "ipython3",
   "version": "3.6.4"
  }
 },
 "nbformat": 4,
 "nbformat_minor": 2
}
